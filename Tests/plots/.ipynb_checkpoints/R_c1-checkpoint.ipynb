{
 "cells": [
  {
   "cell_type": "code",
   "execution_count": 2,
   "metadata": {},
   "outputs": [],
   "source": [
    "\n",
    "Wjets = {'mean': [1.35292, 1.90311, 1.94241], 'sigma': [0.04253, 0.107265, 0.15216]}\n",
    "Zjets = {'mean': [1.76502, 2.23763, 2.31546], 'sigma': [0.089455, 0.204712, 0.300561]}\n",
    "\n",
    "Wgamma = {'mean': [0.0288828, 0.0304507, 0.0349872], 'sigma': [0.000976167, 0.00190933, 0.00256967]}\n",
    "Zgamma = {'mean': [0.0275718, 0.0269122, 0.0382715], 'sigma': [0.0027413, 0.00516901, 0.00801597]}\n",
    "gammajets = {'mean': [0.0288054, 0.0281794, 0.033731], 'sigma': [0.000233397, 0.000443785, 0.000580476]}\n",
    "Znunugamma = {'mean': [0.0199273, 0.0225046, 0.0106411], 'sigma': [0.0180043, 0.0443461, 0.0301703]}"
   ]
  },
  {
   "cell_type": "code",
   "execution_count": null,
   "metadata": {},
   "outputs": [],
   "source": []
  }
 ],
 "metadata": {
  "kernelspec": {
   "display_name": "Python 3",
   "language": "python",
   "name": "python3"
  },
  "language_info": {
   "codemirror_mode": {
    "name": "ipython",
    "version": 3
   },
   "file_extension": ".py",
   "mimetype": "text/x-python",
   "name": "python",
   "nbconvert_exporter": "python",
   "pygments_lexer": "ipython3",
   "version": "3.7.2"
  }
 },
 "nbformat": 4,
 "nbformat_minor": 2
}
