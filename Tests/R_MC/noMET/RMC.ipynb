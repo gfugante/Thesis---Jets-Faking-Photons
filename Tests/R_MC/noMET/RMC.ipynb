{
 "cells": [
  {
   "cell_type": "code",
   "execution_count": 1,
   "metadata": {},
   "outputs": [],
   "source": [
    "import math"
   ]
  },
  {
   "cell_type": "code",
   "execution_count": 2,
   "metadata": {},
   "outputs": [
    {
     "name": "stdout",
     "output_type": "stream",
     "text": [
      "SR:          2.758 +- 0.492\n",
      "SR:          2.504 +- 0.425\n",
      "\n",
      "\n",
      "1muCR:       2.504 +- 0.282\n",
      "1muCR:       1.895 +- 0.192\n",
      "\n",
      "\n",
      "gammajetCR:  3.824 +- 3.345\n",
      "gammajetCR:  2.461 +- 0.858\n"
     ]
    }
   ],
   "source": [
    "# confronto coeffcicienti di correlazione, con e senza taglio in MET nelle selezioni\n",
    "\n",
    "\n",
    "\n",
    "# SR - ISR1\n",
    "# originale con taglio MET\n",
    "Na_b = 185.46\n",
    "Nb_b = 65.15\n",
    "Ma_b = 184.01\n",
    "Mb_b = 178.25\n",
    "\n",
    "R_MC = (Na_b*Mb_b)/(Nb_b*Ma_b)\n",
    "sigma_R_MC = R_MC * math.sqrt((1/Na_b) + (1/Nb_b) + (1/Ma_b) + (1/Mb_b))\n",
    "\n",
    "print(\"SR:          \" + repr(round(R_MC,3)) + \" +- \" + repr(round(sigma_R_MC,3)))\n",
    "\n",
    "# senza taglio MET\n",
    "Na_b = 207.46\n",
    "Nb_b = 70.47\n",
    "Ma_b = 222.64\n",
    "Mb_b = 189.39\n",
    "\n",
    "R_MC = (Na_b*Mb_b)/(Nb_b*Ma_b)\n",
    "sigma_R_MC = R_MC * math.sqrt((1/Na_b) + (1/Nb_b) + (1/Ma_b) + (1/Mb_b))\n",
    "\n",
    "print(\"SR:          \" + repr(round(R_MC,3)) + \" +- \" + repr(round(sigma_R_MC,3)))\n",
    "print(\"\\n\")\n",
    "\n",
    "\n",
    "\n",
    "\n",
    "# 1muCR - ISR1\n",
    "Na_b = 305.9\n",
    "Nb_b = 185.58\n",
    "Ma_b = 408.67\n",
    "Mb_b = 620.82\n",
    "\n",
    "R_MC = (Na_b*Mb_b)/(Nb_b*Ma_b)\n",
    "sigma_R_MC = R_MC * math.sqrt((1/Na_b) + (1/Nb_b) + (1/Ma_b) + (1/Mb_b))\n",
    "\n",
    "print(\"1muCR:       \" + repr(round(R_MC,3)) + \" +- \" + repr(round(sigma_R_MC,3)))\n",
    "\n",
    "Na_b = 342.97\n",
    "Nb_b = 228.82\n",
    "Ma_b = 597.15\n",
    "Mb_b = 754.94\n",
    "\n",
    "R_MC = (Na_b*Mb_b)/(Nb_b*Ma_b)\n",
    "sigma_R_MC = R_MC * math.sqrt((1/Na_b) + (1/Nb_b) + (1/Ma_b) + (1/Mb_b))\n",
    "\n",
    "print(\"1muCR:       \" + repr(round(R_MC,3)) + \" +- \" + repr(round(sigma_R_MC,3)))\n",
    "print(\"\\n\")\n",
    "\n",
    "\n",
    "# gammajetCR\n",
    "Na_b = 13.09\n",
    "Nb_b = 2.06\n",
    "Ma_b = 13.11\n",
    "Mb_b = 7.89\n",
    "\n",
    "R_MC = (Na_b*Mb_b)/(Nb_b*Ma_b)\n",
    "sigma_R_MC = R_MC * math.sqrt((1/Na_b) + (1/Nb_b) + (1/Ma_b) + (1/Mb_b))\n",
    "\n",
    "print(\"gammajetCR:  \" + repr(round(R_MC,3)) + \" +- \" + repr(round(sigma_R_MC,3)))\n",
    "\n",
    "Na_b = 48.44\n",
    "Nb_b = 13.45\n",
    "Ma_b = 92.72\n",
    "Mb_b = 63.35\n",
    "\n",
    "R_MC = (Na_b*Mb_b)/(Nb_b*Ma_b)\n",
    "sigma_R_MC = R_MC * math.sqrt((1/Na_b) + (1/Nb_b) + (1/Ma_b) + (1/Mb_b))\n",
    "\n",
    "print(\"gammajetCR:  \" + repr(round(R_MC,3)) + \" +- \" + repr(round(sigma_R_MC,3)))"
   ]
  },
  {
   "cell_type": "code",
   "execution_count": null,
   "metadata": {},
   "outputs": [],
   "source": []
  }
 ],
 "metadata": {
  "kernelspec": {
   "display_name": "Python 3",
   "language": "python",
   "name": "python3"
  },
  "language_info": {
   "codemirror_mode": {
    "name": "ipython",
    "version": 3
   },
   "file_extension": ".py",
   "mimetype": "text/x-python",
   "name": "python",
   "nbconvert_exporter": "python",
   "pygments_lexer": "ipython3",
   "version": "3.7.2"
  }
 },
 "nbformat": 4,
 "nbformat_minor": 2
}
