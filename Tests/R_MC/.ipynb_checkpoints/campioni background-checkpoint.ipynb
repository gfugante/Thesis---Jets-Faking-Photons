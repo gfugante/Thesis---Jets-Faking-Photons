{
 "cells": [
  {
   "cell_type": "code",
   "execution_count": 1,
   "metadata": {},
   "outputs": [],
   "source": [
    "import yaml\n",
    "import pandas as pd"
   ]
  },
  {
   "cell_type": "code",
   "execution_count": 2,
   "metadata": {},
   "outputs": [],
   "source": [
    "# caricamento di tutti i dati usati\n",
    "\n",
    "with open(\"gammajets/R_gammajets_pesati.txt\", \"r\") as f:\n",
    "    gj_pesati = yaml.load(f, Loader=yaml.SafeLoader)"
   ]
  },
  {
   "cell_type": "code",
   "execution_count": 3,
   "metadata": {},
   "outputs": [],
   "source": [
    "with open(\"gammajets/R_gammajets_non_pesati.txt\", \"r\") as f:\n",
    "    gj_non_pesati = yaml.load(f, Loader=yaml.SafeLoader)"
   ]
  },
  {
   "cell_type": "code",
   "execution_count": 4,
   "metadata": {},
   "outputs": [],
   "source": [
    "with open(\"gammajets/R.txt\", \"r\") as f:\n",
    "    gj_pesati_nuovi = yaml.load(f, Loader=yaml.SafeLoader)"
   ]
  },
  {
   "cell_type": "code",
   "execution_count": 5,
   "metadata": {},
   "outputs": [],
   "source": [
    "with open(\"gammajets_LO/R_gammajets_pesati_LO.txt\", \"r\") as f:\n",
    "    gj_pesati_LO = yaml.load(f, Loader=yaml.SafeLoader)"
   ]
  },
  {
   "cell_type": "code",
   "execution_count": 6,
   "metadata": {},
   "outputs": [],
   "source": [
    "with open(\"Zjets/R_Zjets_pesati.txt\", \"r\") as f:\n",
    "    Zj_pesati = yaml.load(f, Loader=yaml.SafeLoader)"
   ]
  },
  {
   "cell_type": "code",
   "execution_count": 7,
   "metadata": {},
   "outputs": [],
   "source": [
    "with open(\"Zjets/R_Zjets_non_pesati.txt\", \"r\") as f:\n",
    "    Zj_non_pesati = yaml.load(f, Loader=yaml.SafeLoader)"
   ]
  },
  {
   "cell_type": "code",
   "execution_count": 8,
   "metadata": {},
   "outputs": [],
   "source": [
    "with open(\"Zjets/R.txt\", \"r\") as f:\n",
    "    Zj_pesati_nuovi = yaml.load(f, Loader=yaml.SafeLoader)"
   ]
  },
  {
   "cell_type": "code",
   "execution_count": 9,
   "metadata": {},
   "outputs": [],
   "source": [
    "with open(\"Wjets/R_Wjets_pesati.txt\", \"r\") as f:\n",
    "    Wj_pesati = yaml.load(f, Loader=yaml.SafeLoader)"
   ]
  },
  {
   "cell_type": "code",
   "execution_count": 10,
   "metadata": {},
   "outputs": [],
   "source": [
    "with open(\"Wjets/R_Wjets_non_pesati.txt\", \"r\") as f:\n",
    "    Wj_non_pesati = yaml.load(f, Loader=yaml.SafeLoader)"
   ]
  },
  {
   "cell_type": "code",
   "execution_count": 11,
   "metadata": {},
   "outputs": [],
   "source": [
    "with open(\"Wjets/R_Wjets_w1.txt\", \"r\") as f:\n",
    "    Wj_pesati_1 = yaml.load(f, Loader=yaml.SafeLoader)\n",
    "with open(\"Wjets/R_Wjets_w0.txt\", \"r\") as f:\n",
    "    Wj_pesati_0 = yaml.load(f, Loader=yaml.SafeLoader)"
   ]
  },
  {
   "cell_type": "code",
   "execution_count": 12,
   "metadata": {},
   "outputs": [],
   "source": [
    "with open(\"Wjets/R_Wjets_xSec_500.txt\", \"r\") as f:\n",
    "    Wj_pesati_xSec_500 = yaml.load(f, Loader=yaml.SafeLoader)\n",
    "with open(\"Wjets/R_Wjets_xSec_10000.txt\", \"r\") as f:\n",
    "    Wj_pesati_xSec_10000 = yaml.load(f, Loader=yaml.SafeLoader)"
   ]
  },
  {
   "cell_type": "code",
   "execution_count": 13,
   "metadata": {},
   "outputs": [
    {
     "name": "stdout",
     "output_type": "stream",
     "text": [
      "Index(['Ma_b', 'Mb_b', 'Na_b', 'Nb_b', 'R_MC', 'sigma_R_MC'], dtype='object')\n"
     ]
    }
   ],
   "source": [
    "gj_pesati = pd.DataFrame(gj_pesati)\n",
    "gj_pesati = gj_pesati.T\n",
    "\n",
    "gj_non_pesati = pd.DataFrame(gj_non_pesati)\n",
    "gj_non_pesati = gj_non_pesati.T\n",
    "\n",
    "gj_pesati_nuovi = pd.DataFrame(gj_pesati_nuovi)\n",
    "gj_pesati_nuovi = gj_pesati_nuovi.T\n",
    "\n",
    "gj_pesati_LO = pd.DataFrame(gj_pesati_LO)\n",
    "gj_pesati_LO = gj_pesati_LO.T\n",
    "\n",
    "print(gj_pesati_LO.columns)"
   ]
  },
  {
   "cell_type": "code",
   "execution_count": 14,
   "metadata": {},
   "outputs": [
    {
     "name": "stdout",
     "output_type": "stream",
     "text": [
      "Index(['Ma_b', 'Mb_b', 'Na_b', 'Nb_b', 'R_MC', 'sigma_R_MC'], dtype='object')\n"
     ]
    }
   ],
   "source": [
    "Zj_pesati = pd.DataFrame(Zj_pesati)\n",
    "Zj_pesati = Zj_pesati.T\n",
    "\n",
    "Zj_non_pesati = pd.DataFrame(Zj_non_pesati)\n",
    "Zj_non_pesati = Zj_non_pesati.T\n",
    "\n",
    "Zj_pesati_nuovi = pd.DataFrame(Zj_pesati_nuovi)\n",
    "Zj_pesati_nuovi = Zj_pesati_nuovi.T\n",
    "\n",
    "print(Zj_non_pesati.columns)"
   ]
  },
  {
   "cell_type": "code",
   "execution_count": 15,
   "metadata": {},
   "outputs": [
    {
     "name": "stdout",
     "output_type": "stream",
     "text": [
      "Index(['Ma_b', 'Mb_b', 'Na_b', 'Nb_b', 'R_MC', 'sigma_R_MC'], dtype='object')\n",
      "Index(['Ma_b', 'Mb_b', 'Na_b', 'Nb_b', 'R_MC', 'sigma_R_MC'], dtype='object')\n"
     ]
    }
   ],
   "source": [
    "Wj_pesati = pd.DataFrame(Wj_pesati)\n",
    "Wj_pesati = Wj_pesati.T\n",
    "\n",
    "Wj_pesati_xSec_500 = pd.DataFrame(Wj_pesati_xSec_500)\n",
    "Wj_pesati_xSec_500 = Wj_pesati_xSec_500.T\n",
    "\n",
    "Wj_pesati_xSec_10000 = pd.DataFrame(Wj_pesati_xSec_10000)\n",
    "Wj_pesati_xSec_10000 = Wj_pesati_xSec_10000.T\n",
    "\n",
    "Wj_non_pesati = pd.DataFrame(Wj_non_pesati)\n",
    "Wj_non_pesati = Wj_non_pesati.T\n",
    "\n",
    "Wj_pesati_0 = pd.DataFrame(Wj_pesati_0)\n",
    "Wj_pesati_0 = Wj_pesati_0.T\n",
    "\n",
    "Wj_pesati_1 = pd.DataFrame(Wj_pesati_1)\n",
    "Wj_pesati_1 = Wj_pesati_1.T\n",
    "\n",
    "print(Wj_non_pesati.columns)\n",
    "print(Wj_pesati_1.columns)\n",
    "\n"
   ]
  },
  {
   "cell_type": "code",
   "execution_count": 16,
   "metadata": {},
   "outputs": [
    {
     "name": "stdout",
     "output_type": "stream",
     "text": [
      "gammajets pesati/non pesati\n",
      "\n",
      "\t\t\tPesati\t\t\tNon Pesati\t\tPesati nuovi\t\tPesati LO\n",
      "\n",
      "\t\t\tR_MC\tsigma\t\tR_MC\tsigma\t\tR_MC\tsigma\t\tR_MC\tsigma\n",
      "\n",
      "SR - ISR1\t\t6.324\t2.646\t\t1.361\t1.433\t\t5.696\t2.384\t\t0.063\t0.136\n",
      "SR - ISR2\t\t0.0\t0.0\t\t0.0\t0.0\t\t0.0\t0.0\t\t2.996\t8.158\n",
      "SR - ISR3\t\t0.0\t0.0\t\t0.0\t0.0\t\t0.0\t0.0\t\t1.417\t3.905\n",
      "SR - ESR1\t\t8.581\t3.659\t\t5.75\t6.63\t\t7.71\t3.289\t\t0.0\t0.0\n",
      "SR - ESR2\t\t0.0\t0.0\t\t0.0\t0.0\t\t0.0\t0.0\t\t0.0\t0.0\n",
      "1muCR - ISR1\t\t0.0\t0.0\t\t0.0\t0.0\t\t0.0\t0.0\t\t0.0\t0.0\n",
      "1muCR - ISR2\t\t0.0\t0.0\t\t0.0\t0.0\t\t0.0\t0.0\t\t0.0\t0.0\n",
      "1muCR - ISR3\t\t0.0\t0.0\t\t0.0\t0.0\t\t0.0\t0.0\t\t0.0\t0.0\n",
      "1muCR - ESR1\t\t0.0\t0.0\t\t0.0\t0.0\t\t0.0\t0.0\t\t0.0\t0.0\n",
      "1muCR - ESR2\t\t0.0\t0.0\t\t0.0\t0.0\t\t0.0\t0.0\t\t0.0\t0.0\n",
      "2muCR - ISR1\t\t0.0\t0.0\t\t0.0\t0.0\t\t0.0\t0.0\t\t0.0\t0.0\n",
      "2muCR - ISR2\t\t0.0\t0.0\t\t0.0\t0.0\t\t0.0\t0.0\t\t0.0\t0.0\n",
      "2muCR - ISR3\t\t0.0\t0.0\t\t0.0\t0.0\t\t0.0\t0.0\t\t0.0\t0.0\n",
      "2muCR - ESR1\t\t0.0\t0.0\t\t0.0\t0.0\t\t0.0\t0.0\t\t0.0\t0.0\n",
      "2muCR - ESR2\t\t0.0\t0.0\t\t0.0\t0.0\t\t0.0\t0.0\t\t0.0\t0.0\n",
      "2eCR - ISR1\t\t0.0\t0.0\t\t0.0\t0.0\t\t0.0\t0.0\t\t0.0\t0.0\n",
      "2eCR - ISR2\t\t0.0\t0.0\t\t0.0\t0.0\t\t0.0\t0.0\t\t0.0\t0.0\n",
      "2eCR - ISR3\t\t0.0\t0.0\t\t0.0\t0.0\t\t0.0\t0.0\t\t0.0\t0.0\n",
      "2eCR - ESR1\t\t0.0\t0.0\t\t0.0\t0.0\t\t0.0\t0.0\t\t0.0\t0.0\n",
      "2eCR - ESR2\t\t0.0\t0.0\t\t0.0\t0.0\t\t0.0\t0.0\t\t0.0\t0.0\n",
      "gammajetCR\t\t2.657\t0.168\t\t1.685\t0.217\t\t2.076\t0.152\t\t1.0\t0.141\n"
     ]
    }
   ],
   "source": [
    "print(\"gammajets pesati/non pesati\\n\")\n",
    "\n",
    "print(\"\\t\\t\\tPesati\\t\\t\\tNon Pesati\\t\\tPesati nuovi\\t\\tPesati LO\\n\")\n",
    "print(\"\\t\\t\\tR_MC\\tsigma\\t\\tR_MC\\tsigma\\t\\tR_MC\\tsigma\\t\\tR_MC\\tsigma\\n\")\n",
    "\n",
    "for i in range(len(gj_pesati.index)):\n",
    "    print(gj_pesati.index[i] + \"\\t\\t\" + \\\n",
    "          repr(round(gj_pesati[\"R_MC\"][i],3)) + \"\\t\" + repr(round(gj_pesati[\"sigma_R_MC\"][i],3)) + \"\\t\\t\" + \\\n",
    "          repr(round(gj_non_pesati[\"R_MC\"][i],3)) + \"\\t\" + repr(round(gj_non_pesati[\"sigma_R_MC\"][i],3)) + \"\\t\\t\" + \\\n",
    "          repr(round(gj_pesati_nuovi[\"R_MC\"][i],3)) + \"\\t\" + repr(round(gj_pesati_nuovi[\"sigma_R_MC\"][i],3)) +\"\\t\\t\"+\\\n",
    "          repr(round(gj_pesati_LO[\"R_MC\"][i],3)) + \"\\t\" + repr(round(gj_pesati_LO[\"sigma_R_MC\"][i],3)))"
   ]
  },
  {
   "cell_type": "code",
   "execution_count": 28,
   "metadata": {},
   "outputs": [
    {
     "name": "stdout",
     "output_type": "stream",
     "text": [
      "Zjets\n",
      "\n",
      "\t\t\tPesati\t\t\tPesati (mconly_weight<100)\n",
      "\n",
      "\t\t\tR_MC\tsigma\t\tR_MC\tsigma\n",
      "\n",
      "SR - ISR1\t\t1.257\t0.18\t\t1.257\t0.18\n",
      "SR - ISR2\t\t1.388\t0.3\t\t1.388\t0.3\n",
      "SR - ISR3\t\t0.384\t0.172\t\t0.384\t0.172\n",
      "SR - ESR1\t\t1.245\t0.252\t\t1.245\t0.252\n",
      "SR - ESR2\t\t2.068\t0.525\t\t2.068\t0.525\n",
      "1muCR - ISR1\t\t-3.257\t-1.455\t\t-2.978\t-1.444\n",
      "1muCR - ISR2\t\t0.0\t0.0\t\t0.0\t0.0\n",
      "1muCR - ISR3\t\t-0.073\t-0.037\t\t-0.111\t-0.096\n",
      "1muCR - ESR1\t\t-7.184\t-4.196\t\t-8.49\t-5.886\n",
      "1muCR - ESR2\t\t0.0\t0.0\t\t0.0\t0.0\n",
      "2muCR - ISR1\t\t14.132\t4.717\t\t14.18\t4.734\n",
      "2muCR - ISR2\t\t-0.722\t-0.176\t\t-0.657\t-0.138\n",
      "2muCR - ISR3\t\t-7.038\t-4.899\t\t-7.038\t-4.899\n",
      "2muCR - ESR1\t\t31.813\t15.074\t\t31.813\t15.074\n",
      "2muCR - ESR2\t\t0.79\t0.567\t\t0.866\t0.614\n",
      "2eCR - ISR1\t\t3.828\t1.381\t\t3.828\t1.381\n",
      "2eCR - ISR2\t\t7.256\t4.184\t\t7.256\t4.184\n",
      "2eCR - ISR3\t\t-6.832\t-2.271\t\t-6.832\t-2.271\n",
      "2eCR - ESR1\t\t2.662\t1.288\t\t2.662\t1.288\n",
      "2eCR - ESR2\t\t3.819\t2.563\t\t3.819\t2.563\n",
      "gammajetCR\t\t2.832\t1.14\t\t2.832\t1.14\n"
     ]
    }
   ],
   "source": [
    "print(\"Zjets\\n\")\n",
    "\n",
    "print(\"\\t\\t\\tPesati\\t\\t\\tPesati (mconly_weight<100)\\n\")\n",
    "print(\"\\t\\t\\tR_MC\\tsigma\\t\\tR_MC\\tsigma\\n\")\n",
    "\n",
    "for i in range(len(Zj_pesati.index)):\n",
    "    print(Zj_pesati.index[i] + \"\\t\\t\" + \\\n",
    "          repr(round(Zj_pesati[\"R_MC\"][i],3)) + \"\\t\" + repr(round(Zj_pesati[\"sigma_R_MC\"][i],3)) + \"\\t\\t\" + \\\n",
    "          repr(round(Zj_pesati_nuovi[\"R_MC\"][i],3)) + \"\\t\" + repr(round(Zj_pesati_nuovi[\"sigma_R_MC\"][i],3)))"
   ]
  },
  {
   "cell_type": "code",
   "execution_count": 25,
   "metadata": {},
   "outputs": [
    {
     "name": "stdout",
     "output_type": "stream",
     "text": [
      "Wjets\n",
      "\t\t\tPesati\t\t\tPesati(xSec_SUSY<10000)\tPesati(xSec_SUSY<500)\n",
      "\n",
      "\t\t\tR_MC\tsigma\t\tR_MC\tsigma\t\tR_MC\tsigma\n",
      "\n",
      "SR - ISR1\t\t13.459\t1.607\t\t1.285\t0.172\t\t2.127\t0.296\n",
      "SR - ISR2\t\t-57.68\t-6.449\t\t4.363\t0.961\t\t3.537\t0.792\n",
      "SR - ISR3\t\t4.588\t2.081\t\t4.588\t2.081\t\t2.936\t1.393\n",
      "SR - ESR1\t\t2.598\t0.407\t\t0.75\t0.132\t\t1.627\t0.293\n",
      "SR - ESR2\t\t-49.958\t-8.044\t\t4.386\t1.112\t\t3.744\t0.961\n",
      "1muCR - ISR1\t\t2.19\t0.242\t\t1.823\t0.207\t\t1.633\t0.194\n",
      "1muCR - ISR2\t\t0.0\t0.0\t\t3.165\t0.584\t\t3.596\t0.675\n",
      "1muCR - ISR3\t\t1.832\t0.571\t\t1.857\t0.58\t\t2.715\t0.893\n",
      "1muCR - ESR1\t\t3.653\t0.519\t\t1.653\t0.257\t\t1.169\t0.193\n",
      "1muCR - ESR2\t\t-1.865\t-0.225\t\t4.158\t0.972\t\t4.158\t0.972\n",
      "2muCR - ISR1\t\t0.0\t0.0\t\t0.0\t0.0\t\t0.0\t0.0\n",
      "2muCR - ISR2\t\t0.0\t0.0\t\t0.0\t0.0\t\t0.0\t0.0\n",
      "2muCR - ISR3\t\t0.0\t0.0\t\t0.0\t0.0\t\t0.0\t0.0\n",
      "2muCR - ESR1\t\t0.0\t0.0\t\t0.0\t0.0\t\t0.0\t0.0\n",
      "2muCR - ESR2\t\t0.0\t0.0\t\t0.0\t0.0\t\t0.0\t0.0\n",
      "2eCR - ISR1\t\t0.0\t0.0\t\t0.0\t0.0\t\t0.0\t0.0\n",
      "2eCR - ISR2\t\t0.0\t0.0\t\t0.0\t0.0\t\t0.0\t0.0\n",
      "2eCR - ISR3\t\t0.0\t0.0\t\t0.0\t0.0\t\t0.0\t0.0\n",
      "2eCR - ESR1\t\t0.0\t0.0\t\t0.0\t0.0\t\t0.0\t0.0\n",
      "2eCR - ESR2\t\t0.0\t0.0\t\t0.0\t0.0\t\t0.0\t0.0\n",
      "gammajetCR\t\t9.113\t2.104\t\t9.113\t2.104\t\t9.113\t2.104\n"
     ]
    }
   ],
   "source": [
    "print(\"Wjets\")\n",
    "\n",
    "print(\"\\t\\t\\tPesati\\t\\t\\tPesati(xSec_SUSY<10000)\\tPesati(xSec_SUSY<500)\\n\")\n",
    "print(\"\\t\\t\\tR_MC\\tsigma\\t\\tR_MC\\tsigma\\t\\tR_MC\\tsigma\\n\")\n",
    "\n",
    "for i in range(len(Wj_pesati.index)):\n",
    "    print(Wj_pesati.index[i] + \"\\t\\t\" + \\\n",
    "          repr(round(Wj_pesati[\"R_MC\"][i],3)) + \"\\t\" + repr(round(Wj_pesati[\"sigma_R_MC\"][i],3)) + \"\\t\\t\" + \\\n",
    "          repr(round(Wj_pesati_xSec_10000[\"R_MC\"][i],3)) + \"\\t\" + repr(round(Wj_pesati_xSec_10000[\"sigma_R_MC\"][i],3)) + \"\\t\\t\" + \\\n",
    "          repr(round(Wj_pesati_xSec_500[\"R_MC\"][i],3)) + \"\\t\" + repr(round(Wj_pesati_xSec_500[\"sigma_R_MC\"][i],3)))"
   ]
  },
  {
   "cell_type": "code",
   "execution_count": null,
   "metadata": {},
   "outputs": [],
   "source": [
    "print(Zj_pesati)"
   ]
  },
  {
   "cell_type": "code",
   "execution_count": null,
   "metadata": {},
   "outputs": [],
   "source": []
  },
  {
   "cell_type": "code",
   "execution_count": null,
   "metadata": {},
   "outputs": [],
   "source": []
  },
  {
   "cell_type": "code",
   "execution_count": null,
   "metadata": {},
   "outputs": [],
   "source": []
  }
 ],
 "metadata": {
  "kernelspec": {
   "display_name": "Python 3",
   "language": "python",
   "name": "python3"
  },
  "language_info": {
   "codemirror_mode": {
    "name": "ipython",
    "version": 3
   },
   "file_extension": ".py",
   "mimetype": "text/x-python",
   "name": "python",
   "nbconvert_exporter": "python",
   "pygments_lexer": "ipython3",
   "version": "3.7.2"
  }
 },
 "nbformat": 4,
 "nbformat_minor": 2
}
